{
 "cells": [
  {
   "cell_type": "code",
   "execution_count": 1,
   "id": "758140db",
   "metadata": {
    "ExecuteTime": {
     "end_time": "2022-11-27T13:24:57.168546Z",
     "start_time": "2022-11-27T13:24:57.165244Z"
    }
   },
   "outputs": [],
   "source": [
    "# !pip install jours-feries-france -q\n",
    "# !pip install vacances-scolaires-france -q"
   ]
  },
  {
   "cell_type": "code",
   "execution_count": 2,
   "id": "da6643c5",
   "metadata": {
    "ExecuteTime": {
     "end_time": "2022-11-27T13:24:59.510787Z",
     "start_time": "2022-11-27T13:24:57.170947Z"
    }
   },
   "outputs": [],
   "source": [
    "import numpy as np\n",
    "import pandas as pd\n",
    "from tqdm.auto import tqdm\n",
    "import lightgbm\n",
    "import matplotlib.pyplot as plt\n",
    "import seaborn as sns\n",
    "\n",
    "import warnings\n",
    "warnings.filterwarnings(\"ignore\")\n",
    "\n",
    "TARGETS = [\"Available\", \"Charging\", \"Passive\", \"Other\"]"
   ]
  },
  {
   "cell_type": "code",
   "execution_count": 3,
   "id": "88e1a0bf",
   "metadata": {
    "ExecuteTime": {
     "end_time": "2022-11-27T13:24:59.521013Z",
     "start_time": "2022-11-27T13:24:59.516414Z"
    }
   },
   "outputs": [],
   "source": [
    "import pandas as pd\n",
    "pd.set_option('display.max_rows', 500)\n",
    "pd.set_option('display.max_columns', 500)\n",
    "pd.set_option('display.width', 1000)"
   ]
  },
  {
   "cell_type": "code",
   "execution_count": 4,
   "id": "7a3e1836",
   "metadata": {
    "ExecuteTime": {
     "end_time": "2022-11-27T13:24:59.533683Z",
     "start_time": "2022-11-27T13:24:59.527218Z"
    }
   },
   "outputs": [],
   "source": [
    "def plot_feat_importance(clf, X):\n",
    "    feature_imp = pd.DataFrame(\n",
    "        sorted(zip(clf.feature_importances_, X.columns)),\n",
    "        columns=['Value','Feature']\n",
    "    )\n",
    "\n",
    "    plt.figure(figsize=(12, 4))\n",
    "    sns.barplot(x=\"Value\", y=\"Feature\", data=feature_imp.sort_values(by=\"Value\", ascending=False))\n",
    "    plt.tight_layout()\n",
    "    plt.show()"
   ]
  },
  {
   "cell_type": "code",
   "execution_count": 5,
   "id": "603b4dad",
   "metadata": {
    "ExecuteTime": {
     "end_time": "2022-11-27T13:25:01.913397Z",
     "start_time": "2022-11-27T13:24:59.536189Z"
    },
    "code_folding": []
   },
   "outputs": [],
   "source": [
    "# data loading\n",
    "df_data = pd.read_csv(\"../public_data/train.csv\")\n",
    "# df_test = pd.read_csv(\"../public_data/test.csv\")\n",
    "\n",
    "df_data['date'] = pd.to_datetime(df_data['date'])\n",
    "\n",
    "df_train = df_data[(df_data[\"date\"] < \"2021-01-18\") & (df_data[\"date\"] > \"2020-05-18\")]\n",
    "df_validation = df_data[df_data[\"date\"] > \"2021-01-18\"]\n",
    "\n",
    "df_train[\"day\"] = pd.to_datetime(df_train[\"date\"].dt.date)\n",
    "df_validation[\"day\"] = pd.to_datetime(df_validation[\"date\"].dt.date)"
   ]
  },
  {
   "cell_type": "code",
   "execution_count": 6,
   "id": "b178ccf3",
   "metadata": {
    "ExecuteTime": {
     "end_time": "2022-11-27T13:25:01.924839Z",
     "start_time": "2022-11-27T13:25:01.915818Z"
    },
    "code_folding": [
     0
    ]
   },
   "outputs": [],
   "source": [
    "def sae(y_true, y_pred):\n",
    "    \"\"\"Sum of Absolute errors\"\"\"\n",
    "    return(sum(abs(y_true - y_pred)))"
   ]
  },
  {
   "cell_type": "markdown",
   "id": "2a4e038e",
   "metadata": {},
   "source": [
    "# Modeling"
   ]
  },
  {
   "cell_type": "markdown",
   "id": "82ee03fe",
   "metadata": {},
   "source": [
    "## Features"
   ]
  },
  {
   "cell_type": "code",
   "execution_count": 7,
   "id": "11e7efd9",
   "metadata": {
    "ExecuteTime": {
     "end_time": "2022-11-27T13:25:02.868936Z",
     "start_time": "2022-11-27T13:25:01.928179Z"
    }
   },
   "outputs": [],
   "source": [
    "from jours_feries_france import JoursFeries\n",
    "\n",
    "jf = list(JoursFeries.for_year(2020).values()) + list(JoursFeries.for_year(2021).values())\n",
    "\n",
    "from vacances_scolaires_france import SchoolHolidayDates\n",
    "\n",
    "holidays = SchoolHolidayDates()\n",
    "hd = [k for k, v in holidays.holidays_for_year(2020).items() if v[\"vacances_zone_c\"]] \\\n",
    "   + [k for k, v in holidays.holidays_for_year(2021).items() if v[\"vacances_zone_c\"]]\n",
    "\n",
    "df_train[\"is_jf\"] = df_train[\"date\"].dt.date.isin(jf)\n",
    "df_train[\"is_hd\"] = df_train[\"date\"].dt.date.isin(hd)\n",
    "\n",
    "df_validation[\"is_jf\"] = df_validation[\"date\"].dt.date.isin(jf)\n",
    "df_validation[\"is_hd\"] = df_validation[\"date\"].dt.date.isin(hd)\n"
   ]
  },
  {
   "cell_type": "code",
   "execution_count": 8,
   "id": "5aaac73e",
   "metadata": {
    "ExecuteTime": {
     "end_time": "2022-11-27T13:25:02.884410Z",
     "start_time": "2022-11-27T13:25:02.871657Z"
    }
   },
   "outputs": [],
   "source": [
    "# use monthly historical temperatures \n",
    "# (not very informative but helps capturing seasonality effect)\n",
    "\n",
    "df = pd.read_csv(\"../paris-historical-temperature.csv\", sep=\";\")\n",
    "df[\"day\"] = pd.to_datetime(df[\"observ_date\"], dayfirst=True) + pd.tseries.offsets.Day(30)\n",
    "df = df[df[\"day\"] > \"2020-01-01\"]\n",
    "df = df.set_index(\"day\")\n",
    "df = (\n",
    "    df\n",
    "    .reindex(pd.date_range(\"2020\", \"2022\"))\n",
    "    .ffill(limit=31)\n",
    "    .reset_index()\n",
    "    .rename(columns={\"index\": \"day\"})\n",
    ")"
   ]
  },
  {
   "cell_type": "markdown",
   "id": "395af9de",
   "metadata": {},
   "source": [
    "### Add electricity consumption"
   ]
  },
  {
   "cell_type": "code",
   "execution_count": 9,
   "id": "fcae3da7",
   "metadata": {
    "ExecuteTime": {
     "end_time": "2022-11-27T13:25:04.673717Z",
     "start_time": "2022-11-27T13:25:02.891064Z"
    }
   },
   "outputs": [],
   "source": [
    "paris_data = pd.read_json(\"/Users/paulemiledugnat/Downloads/téléchargement.json\", lines=True)\n",
    "paris_data = pd.concat([pd.Series(paris_data[\"fields\"].values[i]) for i in range(paris_data.shape[0])], axis=1).T\n",
    "\n",
    "paris_data = paris_data[[\"date\", \"heures\", \"consommation\"]]\n",
    "\n",
    "paris_data[\"day\"] = pd.to_datetime(paris_data[\"date\"], yearfirst=True)\n",
    "paris_data[\"tod\"] = paris_data[\"heures\"].str.split(':').apply(lambda x: 4 * int(x[0]) + int(x[1]) // 15)\n",
    "paris_data[\"consommation\"] = paris_data[\"consommation\"].astype(float)\n",
    "\n",
    "paris_data = paris_data.drop([\"heures\", \"date\"], axis=1).sort_values(by=[\"day\", \"tod\"])\n",
    "\n",
    "paris_data = (\n",
    "    paris_data\n",
    "    .set_index([\"day\", \"tod\"])\n",
    "    .reindex(pd.MultiIndex.from_product((paris_data[\"day\"].unique(), range(96)), names=[\"day\", \"tod\"]))\n",
    "    .ffill()\n",
    "    .reset_index()\n",
    ")\n"
   ]
  },
  {
   "cell_type": "code",
   "execution_count": 11,
   "id": "904891e0",
   "metadata": {
    "ExecuteTime": {
     "end_time": "2022-11-27T13:25:05.117106Z",
     "start_time": "2022-11-27T13:25:04.689486Z"
    }
   },
   "outputs": [],
   "source": [
    "df_train = pd.merge(\n",
    "    df_train,\n",
    "    paris_data,\n",
    "    on=[\"day\", \"tod\"],\n",
    ")\n",
    "\n",
    "df_validation = pd.merge(\n",
    "    df_validation,\n",
    "    paris_data,\n",
    "    on=[\"day\", \"tod\"]\n",
    ")"
   ]
  },
  {
   "cell_type": "markdown",
   "id": "47df6863",
   "metadata": {},
   "source": [
    "### add interaction features"
   ]
  },
  {
   "cell_type": "code",
   "execution_count": 15,
   "id": "2dbb0468",
   "metadata": {
    "ExecuteTime": {
     "end_time": "2022-11-27T13:25:43.521803Z",
     "start_time": "2022-11-27T13:25:40.710275Z"
    }
   },
   "outputs": [],
   "source": [
    "for df_ in [df_train, df_validation]:\n",
    "    df_[\"tod-dow\"] = df_[\"tod\"].astype(str) + \"-\" + df_[\"dow\"].astype(str)\n",
    "    df_[\"tod-area\"] = df_[\"tod\"].astype(str) + \"-\" + df_[\"area\"].astype(str)\n",
    "    df_[\"dow-area\"] = df_[\"dow\"].astype(str) + \"-\" + df_[\"area\"].astype(str)"
   ]
  },
  {
   "cell_type": "markdown",
   "id": "9ece9f30",
   "metadata": {},
   "source": [
    "### Add temperatures and one hot encode area"
   ]
  },
  {
   "cell_type": "code",
   "execution_count": 16,
   "id": "aec51b66",
   "metadata": {
    "ExecuteTime": {
     "end_time": "2022-11-27T13:25:44.569913Z",
     "start_time": "2022-11-27T13:25:43.525394Z"
    }
   },
   "outputs": [],
   "source": [
    "df_train = pd.merge(\n",
    "    df_train,\n",
    "    df[[\"day\", \"avg_day\", \"avg_night\"]],\n",
    "    on=[\"day\"]\n",
    ").drop(\"Station\", axis=1)\n",
    "\n",
    "df_train = pd.concat((\n",
    "    df_train.drop(\"area\", axis=1), \n",
    "    pd.get_dummies(df_train[\"area\"])\n",
    "), axis=1)\n",
    "\n",
    "df_validation = pd.merge(\n",
    "    df_validation,\n",
    "    df[[\"day\", \"avg_day\", \"avg_night\"]],\n",
    "    on=[\"day\"]\n",
    ").drop(\"Station\", axis=1)\n",
    "\n",
    "df_validation = pd.concat((\n",
    "    df_validation.drop(\"area\", axis=1), \n",
    "    pd.get_dummies(df_validation[\"area\"])\n",
    "), axis=1)"
   ]
  },
  {
   "cell_type": "code",
   "execution_count": 17,
   "id": "418ff876",
   "metadata": {
    "ExecuteTime": {
     "end_time": "2022-11-27T13:25:44.590406Z",
     "start_time": "2022-11-27T13:25:44.571588Z"
    }
   },
   "outputs": [
    {
     "data": {
      "text/html": [
       "<div>\n",
       "<style scoped>\n",
       "    .dataframe tbody tr th:only-of-type {\n",
       "        vertical-align: middle;\n",
       "    }\n",
       "\n",
       "    .dataframe tbody tr th {\n",
       "        vertical-align: top;\n",
       "    }\n",
       "\n",
       "    .dataframe thead th {\n",
       "        text-align: right;\n",
       "    }\n",
       "</style>\n",
       "<table border=\"1\" class=\"dataframe\">\n",
       "  <thead>\n",
       "    <tr style=\"text-align: right;\">\n",
       "      <th></th>\n",
       "      <th>date</th>\n",
       "      <th>Available</th>\n",
       "      <th>Charging</th>\n",
       "      <th>Passive</th>\n",
       "      <th>Other</th>\n",
       "      <th>tod</th>\n",
       "      <th>dow</th>\n",
       "      <th>trend</th>\n",
       "      <th>Latitude</th>\n",
       "      <th>Longitude</th>\n",
       "      <th>Postcode</th>\n",
       "      <th>day</th>\n",
       "      <th>is_jf</th>\n",
       "      <th>is_hd</th>\n",
       "      <th>consommation</th>\n",
       "      <th>tod-dow</th>\n",
       "      <th>tod-area</th>\n",
       "      <th>dow-area</th>\n",
       "      <th>avg_day</th>\n",
       "      <th>avg_night</th>\n",
       "      <th>east</th>\n",
       "      <th>north</th>\n",
       "      <th>south</th>\n",
       "      <th>west</th>\n",
       "    </tr>\n",
       "  </thead>\n",
       "  <tbody>\n",
       "    <tr>\n",
       "      <th>0</th>\n",
       "      <td>2020-07-03</td>\n",
       "      <td>3</td>\n",
       "      <td>0</td>\n",
       "      <td>0</td>\n",
       "      <td>0</td>\n",
       "      <td>0</td>\n",
       "      <td>6</td>\n",
       "      <td>27</td>\n",
       "      <td>48.855667</td>\n",
       "      <td>2.354089</td>\n",
       "      <td>75004</td>\n",
       "      <td>2020-07-03</td>\n",
       "      <td>False</td>\n",
       "      <td>False</td>\n",
       "      <td>3258.0</td>\n",
       "      <td>0-6</td>\n",
       "      <td>0-south</td>\n",
       "      <td>6-south</td>\n",
       "      <td>24.0</td>\n",
       "      <td>14.4</td>\n",
       "      <td>0</td>\n",
       "      <td>0</td>\n",
       "      <td>1</td>\n",
       "      <td>0</td>\n",
       "    </tr>\n",
       "    <tr>\n",
       "      <th>1</th>\n",
       "      <td>2020-07-03</td>\n",
       "      <td>2</td>\n",
       "      <td>1</td>\n",
       "      <td>0</td>\n",
       "      <td>0</td>\n",
       "      <td>0</td>\n",
       "      <td>6</td>\n",
       "      <td>27</td>\n",
       "      <td>48.864240</td>\n",
       "      <td>2.397724</td>\n",
       "      <td>75020</td>\n",
       "      <td>2020-07-03</td>\n",
       "      <td>False</td>\n",
       "      <td>False</td>\n",
       "      <td>3258.0</td>\n",
       "      <td>0-6</td>\n",
       "      <td>0-east</td>\n",
       "      <td>6-east</td>\n",
       "      <td>24.0</td>\n",
       "      <td>14.4</td>\n",
       "      <td>1</td>\n",
       "      <td>0</td>\n",
       "      <td>0</td>\n",
       "      <td>0</td>\n",
       "    </tr>\n",
       "  </tbody>\n",
       "</table>\n",
       "</div>"
      ],
      "text/plain": [
       "        date  Available  Charging  Passive  Other  tod  dow  trend   Latitude  Longitude  Postcode        day  is_jf  is_hd  consommation tod-dow tod-area dow-area  avg_day  avg_night  east  north  south  west\n",
       "0 2020-07-03          3         0        0      0    0    6     27  48.855667   2.354089     75004 2020-07-03  False  False        3258.0     0-6  0-south  6-south     24.0       14.4     0      0      1     0\n",
       "1 2020-07-03          2         1        0      0    0    6     27  48.864240   2.397724     75020 2020-07-03  False  False        3258.0     0-6   0-east   6-east     24.0       14.4     1      0      0     0"
      ]
     },
     "execution_count": 17,
     "metadata": {},
     "output_type": "execute_result"
    }
   ],
   "source": [
    "df_train.head(2)"
   ]
  },
  {
   "cell_type": "code",
   "execution_count": 18,
   "id": "e8bbcde2",
   "metadata": {
    "ExecuteTime": {
     "end_time": "2022-11-27T13:25:44.607920Z",
     "start_time": "2022-11-27T13:25:44.594631Z"
    }
   },
   "outputs": [
    {
     "data": {
      "text/html": [
       "<div>\n",
       "<style scoped>\n",
       "    .dataframe tbody tr th:only-of-type {\n",
       "        vertical-align: middle;\n",
       "    }\n",
       "\n",
       "    .dataframe tbody tr th {\n",
       "        vertical-align: top;\n",
       "    }\n",
       "\n",
       "    .dataframe thead th {\n",
       "        text-align: right;\n",
       "    }\n",
       "</style>\n",
       "<table border=\"1\" class=\"dataframe\">\n",
       "  <thead>\n",
       "    <tr style=\"text-align: right;\">\n",
       "      <th></th>\n",
       "      <th>date</th>\n",
       "      <th>Available</th>\n",
       "      <th>Charging</th>\n",
       "      <th>Passive</th>\n",
       "      <th>Other</th>\n",
       "      <th>tod</th>\n",
       "      <th>dow</th>\n",
       "      <th>trend</th>\n",
       "      <th>Latitude</th>\n",
       "      <th>Longitude</th>\n",
       "      <th>Postcode</th>\n",
       "      <th>day</th>\n",
       "      <th>is_jf</th>\n",
       "      <th>is_hd</th>\n",
       "      <th>consommation</th>\n",
       "      <th>tod-dow</th>\n",
       "      <th>tod-area</th>\n",
       "      <th>dow-area</th>\n",
       "      <th>avg_day</th>\n",
       "      <th>avg_night</th>\n",
       "      <th>east</th>\n",
       "      <th>north</th>\n",
       "      <th>south</th>\n",
       "      <th>west</th>\n",
       "    </tr>\n",
       "  </thead>\n",
       "  <tbody>\n",
       "    <tr>\n",
       "      <th>0</th>\n",
       "      <td>2021-01-18 00:15:00</td>\n",
       "      <td>2</td>\n",
       "      <td>0</td>\n",
       "      <td>1</td>\n",
       "      <td>0</td>\n",
       "      <td>1</td>\n",
       "      <td>2</td>\n",
       "      <td>19132</td>\n",
       "      <td>48.85567</td>\n",
       "      <td>2.354089</td>\n",
       "      <td>75004</td>\n",
       "      <td>2021-01-18</td>\n",
       "      <td>False</td>\n",
       "      <td>False</td>\n",
       "      <td>5569.0</td>\n",
       "      <td>1-2</td>\n",
       "      <td>1-south</td>\n",
       "      <td>2-south</td>\n",
       "      <td>9.0</td>\n",
       "      <td>5.2</td>\n",
       "      <td>0</td>\n",
       "      <td>0</td>\n",
       "      <td>1</td>\n",
       "      <td>0</td>\n",
       "    </tr>\n",
       "    <tr>\n",
       "      <th>1</th>\n",
       "      <td>2021-01-18 00:15:00</td>\n",
       "      <td>0</td>\n",
       "      <td>0</td>\n",
       "      <td>0</td>\n",
       "      <td>3</td>\n",
       "      <td>1</td>\n",
       "      <td>2</td>\n",
       "      <td>19132</td>\n",
       "      <td>48.86424</td>\n",
       "      <td>2.397724</td>\n",
       "      <td>75020</td>\n",
       "      <td>2021-01-18</td>\n",
       "      <td>False</td>\n",
       "      <td>False</td>\n",
       "      <td>5569.0</td>\n",
       "      <td>1-2</td>\n",
       "      <td>1-east</td>\n",
       "      <td>2-east</td>\n",
       "      <td>9.0</td>\n",
       "      <td>5.2</td>\n",
       "      <td>1</td>\n",
       "      <td>0</td>\n",
       "      <td>0</td>\n",
       "      <td>0</td>\n",
       "    </tr>\n",
       "  </tbody>\n",
       "</table>\n",
       "</div>"
      ],
      "text/plain": [
       "                 date  Available  Charging  Passive  Other  tod  dow  trend  Latitude  Longitude  Postcode        day  is_jf  is_hd  consommation tod-dow tod-area dow-area  avg_day  avg_night  east  north  south  west\n",
       "0 2021-01-18 00:15:00          2         0        1      0    1    2  19132  48.85567   2.354089     75004 2021-01-18  False  False        5569.0     1-2  1-south  2-south      9.0        5.2     0      0      1     0\n",
       "1 2021-01-18 00:15:00          0         0        0      3    1    2  19132  48.86424   2.397724     75020 2021-01-18  False  False        5569.0     1-2   1-east   2-east      9.0        5.2     1      0      0     0"
      ]
     },
     "execution_count": 18,
     "metadata": {},
     "output_type": "execute_result"
    }
   ],
   "source": [
    "df_validation.head(2)"
   ]
  },
  {
   "cell_type": "code",
   "execution_count": 19,
   "id": "0cd76d50",
   "metadata": {
    "ExecuteTime": {
     "end_time": "2022-11-27T13:25:44.614752Z",
     "start_time": "2022-11-27T13:25:44.610080Z"
    }
   },
   "outputs": [
    {
     "data": {
      "text/plain": [
       "'mean_val_date = df_validation.date.mean().date()\\ndf_train[\"day_diff\"] = (pd.Timestamp(mean_val_date) - df_train[\"date\"]).dt.days\\n\\ndf_train[\"weight\"] = 1 + df_train[\"day_diff\"].rank(pct=True, ascending=False).div(2)\\n\\nsample_weight = df_train[\"weight\"].values\\n\\ndf_train = df_train.drop([\"weight\", \"day_diff\"], axis=1)'"
      ]
     },
     "execution_count": 19,
     "metadata": {},
     "output_type": "execute_result"
    }
   ],
   "source": [
    "# prepare sample weights to add weight for recent data\n",
    "# doesn't work\n",
    "\"\"\"mean_val_date = df_validation.date.mean().date()\n",
    "df_train[\"day_diff\"] = (pd.Timestamp(mean_val_date) - df_train[\"date\"]).dt.days\n",
    "\n",
    "df_train[\"weight\"] = 1 + df_train[\"day_diff\"].rank(pct=True, ascending=False).div(2)\n",
    "\n",
    "sample_weight = df_train[\"weight\"].values\n",
    "\n",
    "df_train = df_train.drop([\"weight\", \"day_diff\"], axis=1)\"\"\""
   ]
  },
  {
   "cell_type": "code",
   "execution_count": 20,
   "id": "b4a279b2",
   "metadata": {
    "ExecuteTime": {
     "end_time": "2022-11-27T13:25:44.805631Z",
     "start_time": "2022-11-27T13:25:44.618569Z"
    }
   },
   "outputs": [],
   "source": [
    "import xgboost\n",
    "import category_encoders as ce"
   ]
  },
  {
   "cell_type": "code",
   "execution_count": 25,
   "id": "8b9bd878",
   "metadata": {
    "ExecuteTime": {
     "end_time": "2022-11-27T13:29:20.561545Z",
     "start_time": "2022-11-27T13:28:21.941139Z"
    },
    "scrolled": false
   },
   "outputs": [
    {
     "data": {
      "application/json": {
       "ascii": false,
       "bar_format": null,
       "colour": null,
       "elapsed": 0.013329267501831055,
       "initial": 0,
       "n": 0,
       "ncols": null,
       "nrows": 24,
       "postfix": null,
       "prefix": "",
       "rate": null,
       "total": 4,
       "unit": "it",
       "unit_divisor": 1000,
       "unit_scale": false
      },
      "application/vnd.jupyter.widget-view+json": {
       "model_id": "d843162c51734663b85a8a84d10da63c",
       "version_major": 2,
       "version_minor": 0
      },
      "text/plain": [
       "  0%|          | 0/4 [00:00<?, ?it/s]"
      ]
     },
     "metadata": {},
     "output_type": "display_data"
    },
    {
     "name": "stdout",
     "output_type": "stream",
     "text": [
      "[LightGBM] [Warning] Met categorical feature which contains sparse values. Consider renumbering to consecutive integers started from zero\n",
      "[LightGBM] [Warning] Auto-choosing row-wise multi-threading, the overhead of testing was 0.013734 seconds.\n",
      "You can set `force_row_wise=true` to remove the overhead.\n",
      "And if memory is not enough, you can set `force_col_wise=true`.\n",
      "[50]\ttraining's l1: 0.71797\ttraining's huber: 0.343429\tvalid_1's l1: 0.831716\tvalid_1's huber: 0.433437\n",
      "[100]\ttraining's l1: 0.680038\ttraining's huber: 0.318864\tvalid_1's l1: 0.810412\tvalid_1's huber: 0.421905\n"
     ]
    },
    {
     "data": {
      "image/png": "[encoded data removed]",
      "text/plain": [
       "<Figure size 864x288 with 1 Axes>"
      ]
     },
     "metadata": {
      "needs_background": "light"
     },
     "output_type": "display_data"
    },
    {
     "name": "stdout",
     "output_type": "stream",
     "text": [
      "[LightGBM] [Warning] Met categorical feature which contains sparse values. Consider renumbering to consecutive integers started from zero\n",
      "[LightGBM] [Warning] Auto-choosing row-wise multi-threading, the overhead of testing was 0.015458 seconds.\n",
      "You can set `force_row_wise=true` to remove the overhead.\n",
      "And if memory is not enough, you can set `force_col_wise=true`.\n",
      "[50]\ttraining's l1: 0.313121\ttraining's huber: 0.0981223\tvalid_1's l1: 0.380813\tvalid_1's huber: 0.127326\n",
      "[100]\ttraining's l1: 0.304915\ttraining's huber: 0.0955118\tvalid_1's l1: 0.371195\tvalid_1's huber: 0.125547\n"
     ]
    },
    {
     "data": {
      "image/png": "[encoded data removed]",
      "text/plain": [
       "<Figure size 864x288 with 1 Axes>"
      ]
     },
     "metadata": {
      "needs_background": "light"
     },
     "output_type": "display_data"
    },
    {
     "name": "stdout",
     "output_type": "stream",
     "text": [
      "[LightGBM] [Warning] Met categorical feature which contains sparse values. Consider renumbering to consecutive integers started from zero\n",
      "[LightGBM] [Warning] Auto-choosing row-wise multi-threading, the overhead of testing was 0.012879 seconds.\n",
      "You can set `force_row_wise=true` to remove the overhead.\n",
      "And if memory is not enough, you can set `force_col_wise=true`.\n",
      "[50]\ttraining's l1: 0.330429\ttraining's huber: 0.109942\tvalid_1's l1: 0.342719\tvalid_1's huber: 0.0976972\n",
      "[100]\ttraining's l1: 0.318595\ttraining's huber: 0.105745\tvalid_1's l1: 0.342242\tvalid_1's huber: 0.100442\n"
     ]
    },
    {
     "data": {
      "image/png": "[encoded data removed]",
      "text/plain": [
       "<Figure size 864x288 with 1 Axes>"
      ]
     },
     "metadata": {
      "needs_background": "light"
     },
     "output_type": "display_data"
    },
    {
     "name": "stdout",
     "output_type": "stream",
     "text": [
      "[LightGBM] [Warning] Met categorical feature which contains sparse values. Consider renumbering to consecutive integers started from zero\n",
      "[LightGBM] [Warning] Auto-choosing row-wise multi-threading, the overhead of testing was 0.014451 seconds.\n",
      "You can set `force_row_wise=true` to remove the overhead.\n",
      "And if memory is not enough, you can set `force_col_wise=true`.\n",
      "[50]\ttraining's l1: 0.465852\ttraining's huber: 0.239943\tvalid_1's l1: 0.696464\tvalid_1's huber: 0.402167\n",
      "[100]\ttraining's l1: 0.420492\ttraining's huber: 0.215126\tvalid_1's l1: 0.659481\tvalid_1's huber: 0.386224\n"
     ]
    },
    {
     "data": {
      "image/png": "[encoded data removed]",
      "text/plain": [
       "<Figure size 864x288 with 1 Axes>"
      ]
     },
     "metadata": {
      "needs_background": "light"
     },
     "output_type": "display_data"
    }
   ],
   "source": [
    "# training loop\n",
    "\n",
    "y_preds = list()\n",
    "models = list()\n",
    "scores = list()\n",
    "\n",
    "train_feats = df_train.drop(TARGETS + [\"date\", \"day\", \"trend\"], axis=1)\n",
    "valid_feats = df_validation.drop(TARGETS + [\"date\", \"day\", \"trend\"], axis=1)\n",
    "\n",
    "for target in tqdm(TARGETS):\n",
    "\n",
    "    train_target = df_train[target]\n",
    "    valid_target = df_validation[target]\n",
    "    \n",
    "    encoder = ce.TargetEncoder(cols=[\"tod-dow\", \"dow-area\", \"tod-area\"])\n",
    "\n",
    "    encoder.fit(train_feats, train_target)\n",
    "    train_feats = encoder.transform(train_feats)\n",
    "    valid_feats = encoder.transform(valid_feats)\n",
    "    \n",
    "    lgbm = lightgbm.LGBMRegressor(objective=\"huber\", verbose=0)\n",
    "    lgbm.fit(\n",
    "        train_feats,\n",
    "        train_target,\n",
    "        eval_set=[\n",
    "            (train_feats, train_target), \n",
    "            (valid_feats, valid_target)\n",
    "        ],\n",
    "        eval_metric=\"l1\",\n",
    "        verbose=50,\n",
    "        categorical_feature=[\"Postcode\"]\n",
    "    )\n",
    "\n",
    "    score = (\n",
    "        np.around(np.mean(np.abs(lgbm.predict(valid_feats) - valid_target)), 2)\n",
    "    )\n",
    "\n",
    "    y_preds.append(lgbm.predict(valid_feats))\n",
    "    models.append(lgbm)\n",
    "    scores.append(score)\n",
    "    \n",
    "    plot_feat_importance(lgbm, train_feats)"
   ]
  },
  {
   "cell_type": "code",
   "execution_count": 26,
   "id": "b720c7ef",
   "metadata": {
    "ExecuteTime": {
     "end_time": "2022-11-27T13:29:20.571474Z",
     "start_time": "2022-11-27T13:29:20.564853Z"
    }
   },
   "outputs": [
    {
     "data": {
      "text/plain": [
       "[0.81, 0.37, 0.34, 0.66]"
      ]
     },
     "execution_count": 26,
     "metadata": {},
     "output_type": "execute_result"
    }
   ],
   "source": [
    "scores"
   ]
  },
  {
   "cell_type": "markdown",
   "id": "833ff922",
   "metadata": {},
   "source": [
    "# Global Pred"
   ]
  },
  {
   "cell_type": "code",
   "execution_count": 23,
   "id": "42d07b3f",
   "metadata": {
    "ExecuteTime": {
     "end_time": "2022-11-27T13:26:40.004699Z",
     "start_time": "2022-11-27T13:26:39.038316Z"
    }
   },
   "outputs": [
    {
     "name": "stdout",
     "output_type": "stream",
     "text": [
      "Available: 10.03\n",
      "Charging: 4.86\n",
      "Passive: 9.27\n",
      "Other: 16.00\n"
     ]
    }
   ],
   "source": [
    "for k in range(4):\n",
    "    true_target = pd.concat((df_train, df_validation), axis=0).groupby(\"date\")[TARGETS[k]].sum()\n",
    "    \n",
    "    # true_target.plot()\n",
    "    # plt.show()\n",
    "\n",
    "    station_prediction = pd.DataFrame(y_preds[k], index=df_validation[\"date\"]).reset_index()\n",
    "\n",
    "    global_prediction = station_prediction.groupby([\"date\"])[0].sum().reset_index().rename(columns={0: TARGETS[k]})\n",
    "\n",
    "    preds = pd.merge(\n",
    "        global_prediction,\n",
    "        true_target.reset_index(),\n",
    "        on=\"date\"\n",
    "    ).assign(mae=lambda x: abs(x[f\"{TARGETS[k]}_x\"] - x[f\"{TARGETS[k]}_y\"]))\n",
    "\n",
    "    print(f\"{TARGETS[k]}: {preds['mae'].mean():.2f}\")\n"
   ]
  },
  {
   "cell_type": "code",
   "execution_count": null,
   "id": "b70888d1",
   "metadata": {
    "ExecuteTime": {
     "end_time": "2022-11-27T13:25:05.593851Z",
     "start_time": "2022-11-27T13:25:05.593827Z"
    }
   },
   "outputs": [],
   "source": [
    "Available: 11.87\n",
    "Charging: 4.94\n",
    "Passive: 12.27\n",
    "Other: 8.42"
   ]
  },
  {
   "cell_type": "code",
   "execution_count": null,
   "id": "7218744a",
   "metadata": {},
   "outputs": [],
   "source": []
  }
 ],
 "metadata": {
  "kernelspec": {
   "display_name": "Python 3 (ipykernel)",
   "language": "python",
   "name": "python3"
  },
  "language_info": {
   "codemirror_mode": {
    "name": "ipython",
    "version": 3
   },
   "file_extension": ".py",
   "mimetype": "text/x-python",
   "name": "python",
   "nbconvert_exporter": "python",
   "pygments_lexer": "ipython3",
   "version": "3.9.10"
  },
  "toc": {
   "base_numbering": 1,
   "nav_menu": {},
   "number_sections": true,
   "sideBar": true,
   "skip_h1_title": false,
   "title_cell": "Table of Contents",
   "title_sidebar": "Contents",
   "toc_cell": false,
   "toc_position": {},
   "toc_section_display": true,
   "toc_window_display": false
  }
 },
 "nbformat": 4,
 "nbformat_minor": 5
}
