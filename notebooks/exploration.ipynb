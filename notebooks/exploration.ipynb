{
 "cells": [
  {
   "cell_type": "code",
   "execution_count": 46,
   "id": "758140db",
   "metadata": {
    "ExecuteTime": {
     "end_time": "2022-11-26T19:59:03.079736Z",
     "start_time": "2022-11-26T19:59:03.074874Z"
    }
   },
   "outputs": [],
   "source": [
    "# !pip install jours-feries-france -q\n",
    "# !pip install vacances-scolaires-france -q"
   ]
  },
  {
   "cell_type": "code",
   "execution_count": 67,
   "id": "da6643c5",
   "metadata": {
    "ExecuteTime": {
     "end_time": "2022-11-26T20:02:12.419106Z",
     "start_time": "2022-11-26T20:02:12.413637Z"
    }
   },
   "outputs": [],
   "source": [
    "import numpy as np\n",
    "import pandas as pd\n",
    "\n",
    "TARGETS = [\"Available\", \"Charging\", \"Passive\", \"Other\"]"
   ]
  },
  {
   "cell_type": "code",
   "execution_count": 95,
   "id": "603b4dad",
   "metadata": {
    "ExecuteTime": {
     "end_time": "2022-11-26T20:06:43.407451Z",
     "start_time": "2022-11-26T20:06:41.360862Z"
    }
   },
   "outputs": [
    {
     "name": "stderr",
     "output_type": "stream",
     "text": [
      "/var/folders/b0/nl_f0s110lxgs62v2c6jwdx40000gn/T/ipykernel_83327/567548462.py:10: SettingWithCopyWarning: \n",
      "A value is trying to be set on a copy of a slice from a DataFrame.\n",
      "Try using .loc[row_indexer,col_indexer] = value instead\n",
      "\n",
      "See the caveats in the documentation: https://pandas.pydata.org/pandas-docs/stable/user_guide/indexing.html#returning-a-view-versus-a-copy\n",
      "  df_train[\"day\"] = df_train.date.dt.date\n",
      "/var/folders/b0/nl_f0s110lxgs62v2c6jwdx40000gn/T/ipykernel_83327/567548462.py:11: SettingWithCopyWarning: \n",
      "A value is trying to be set on a copy of a slice from a DataFrame.\n",
      "Try using .loc[row_indexer,col_indexer] = value instead\n",
      "\n",
      "See the caveats in the documentation: https://pandas.pydata.org/pandas-docs/stable/user_guide/indexing.html#returning-a-view-versus-a-copy\n",
      "  df_validation[\"day\"] = df_validation.date.dt.date\n"
     ]
    }
   ],
   "source": [
    "# data loading\n",
    "df_data = pd.read_csv(\"../public_data/train.csv\")\n",
    "# df_test = pd.read_csv(\"../public_data/test.csv\")\n",
    "\n",
    "df_data['date'] = pd.to_datetime(df_data['date'])\n",
    "\n",
    "df_train = df_data[(df_data[\"date\"] < \"2021-01-18\") & (df_data[\"date\"] > \"2020-09-30\")]\n",
    "df_validation = df_data[df_data[\"date\"] > \"2021-01-18\"]\n",
    "\n",
    "df_train[\"day\"] = df_train.date.dt.date\n",
    "df_validation[\"day\"] = df_validation.date.dt.date"
   ]
  },
  {
   "cell_type": "code",
   "execution_count": 96,
   "id": "b178ccf3",
   "metadata": {
    "ExecuteTime": {
     "end_time": "2022-11-26T20:06:43.413007Z",
     "start_time": "2022-11-26T20:06:43.409938Z"
    },
    "code_folding": [
     0
    ]
   },
   "outputs": [],
   "source": [
    "def sae(y_true, y_pred):\n",
    "    \"\"\"Sum of Absolute errors\"\"\"\n",
    "    return(sum(abs(y_true - y_pred)))"
   ]
  },
  {
   "cell_type": "markdown",
   "id": "2a4e038e",
   "metadata": {},
   "source": [
    "# Station Level"
   ]
  },
  {
   "cell_type": "code",
   "execution_count": 97,
   "id": "a555aaae",
   "metadata": {
    "ExecuteTime": {
     "end_time": "2022-11-26T20:06:45.457752Z",
     "start_time": "2022-11-26T20:06:45.202855Z"
    }
   },
   "outputs": [],
   "source": [
    "s_naive = (\n",
    "    df_train\n",
    "    .drop([\"date\", \"trend\", \"Latitude\", \"Longitude\"], axis=1)\n",
    "    .groupby(['Station', 'tod', 'dow'])\n",
    "    .mean()\n",
    "    .round()\n",
    "    .reset_index()\n",
    ")"
   ]
  },
  {
   "cell_type": "code",
   "execution_count": 98,
   "id": "79293043",
   "metadata": {
    "ExecuteTime": {
     "end_time": "2022-11-26T20:06:45.656143Z",
     "start_time": "2022-11-26T20:06:45.495406Z"
    }
   },
   "outputs": [],
   "source": [
    "station_prediction = pd.merge(\n",
    "    df_validation.drop(TARGETS, axis=1), \n",
    "    s_naive, \n",
    "    on=['Station', 'tod', 'dow']\n",
    ").sort_values(by=[\"date\", \"Station\"])"
   ]
  },
  {
   "cell_type": "code",
   "execution_count": 99,
   "id": "9963ca98",
   "metadata": {
    "ExecuteTime": {
     "end_time": "2022-11-26T20:06:45.997677Z",
     "start_time": "2022-11-26T20:06:45.795130Z"
    }
   },
   "outputs": [
    {
     "data": {
      "text/plain": [
       "161.87756431129924"
      ]
     },
     "execution_count": 99,
     "metadata": {},
     "output_type": "execute_result"
    }
   ],
   "source": [
    "sum(sae(df_validation[TARGETS].values, station_prediction[TARGETS].values) / df_validation[\"date\"].nunique())"
   ]
  },
  {
   "cell_type": "markdown",
   "id": "43470f0d",
   "metadata": {
    "ExecuteTime": {
     "end_time": "2022-11-26T12:41:26.520390Z",
     "start_time": "2022-11-26T12:41:26.509037Z"
    }
   },
   "source": [
    "# Global Level"
   ]
  },
  {
   "cell_type": "code",
   "execution_count": 133,
   "id": "16bbc94f",
   "metadata": {
    "ExecuteTime": {
     "end_time": "2022-11-26T20:19:37.258328Z",
     "start_time": "2022-11-26T20:19:37.068154Z"
    }
   },
   "outputs": [],
   "source": [
    "g_naive = (\n",
    "    df_train\n",
    "    .drop([\"date\", \"trend\"], axis=1)\n",
    "    .groupby(['tod', 'dow'])\n",
    "    .mean()\n",
    "    .reset_index() * 91\n",
    ")\n",
    "\n",
    "test_global = df_validation.groupby('date').agg(\n",
    "    {'tod': 'max',\n",
    "    'dow': 'max',\n",
    "    'trend': 'max'}\n",
    ").reset_index()\n",
    "\n",
    "global_truth = df_validation.groupby([\"date\", \"tod\", \"dow\"])[TARGETS].sum()\n",
    "\n",
    "global_prediction = pd.merge(\n",
    "    test_global,\n",
    "    g_naive,\n",
    "    on=['tod', 'dow']\n",
    ")"
   ]
  },
  {
   "cell_type": "code",
   "execution_count": 126,
   "id": "9118e7c0",
   "metadata": {
    "ExecuteTime": {
     "end_time": "2022-11-26T20:18:10.081103Z",
     "start_time": "2022-11-26T20:18:09.983562Z"
    }
   },
   "outputs": [
    {
     "data": {
      "text/html": [
       "<div>\n",
       "<style scoped>\n",
       "    .dataframe tbody tr th:only-of-type {\n",
       "        vertical-align: middle;\n",
       "    }\n",
       "\n",
       "    .dataframe tbody tr th {\n",
       "        vertical-align: top;\n",
       "    }\n",
       "\n",
       "    .dataframe thead th {\n",
       "        text-align: right;\n",
       "    }\n",
       "</style>\n",
       "<table border=\"1\" class=\"dataframe\">\n",
       "  <thead>\n",
       "    <tr style=\"text-align: right;\">\n",
       "      <th></th>\n",
       "      <th></th>\n",
       "      <th></th>\n",
       "      <th>Available</th>\n",
       "      <th>Charging</th>\n",
       "      <th>Passive</th>\n",
       "      <th>Other</th>\n",
       "    </tr>\n",
       "    <tr>\n",
       "      <th>date</th>\n",
       "      <th>tod</th>\n",
       "      <th>dow</th>\n",
       "      <th></th>\n",
       "      <th></th>\n",
       "      <th></th>\n",
       "      <th></th>\n",
       "    </tr>\n",
       "  </thead>\n",
       "  <tbody>\n",
       "    <tr>\n",
       "      <th>2020-09-30 00:15:00</th>\n",
       "      <th>1</th>\n",
       "      <th>4</th>\n",
       "      <td>168</td>\n",
       "      <td>25</td>\n",
       "      <td>21</td>\n",
       "      <td>59</td>\n",
       "    </tr>\n",
       "    <tr>\n",
       "      <th>2020-09-30 00:30:00</th>\n",
       "      <th>2</th>\n",
       "      <th>4</th>\n",
       "      <td>169</td>\n",
       "      <td>25</td>\n",
       "      <td>20</td>\n",
       "      <td>59</td>\n",
       "    </tr>\n",
       "    <tr>\n",
       "      <th>2020-09-30 00:45:00</th>\n",
       "      <th>3</th>\n",
       "      <th>4</th>\n",
       "      <td>169</td>\n",
       "      <td>24</td>\n",
       "      <td>21</td>\n",
       "      <td>59</td>\n",
       "    </tr>\n",
       "    <tr>\n",
       "      <th>2020-09-30 01:00:00</th>\n",
       "      <th>4</th>\n",
       "      <th>4</th>\n",
       "      <td>170</td>\n",
       "      <td>24</td>\n",
       "      <td>20</td>\n",
       "      <td>59</td>\n",
       "    </tr>\n",
       "    <tr>\n",
       "      <th>2020-09-30 01:15:00</th>\n",
       "      <th>5</th>\n",
       "      <th>4</th>\n",
       "      <td>172</td>\n",
       "      <td>20</td>\n",
       "      <td>22</td>\n",
       "      <td>59</td>\n",
       "    </tr>\n",
       "    <tr>\n",
       "      <th>...</th>\n",
       "      <th>...</th>\n",
       "      <th>...</th>\n",
       "      <td>...</td>\n",
       "      <td>...</td>\n",
       "      <td>...</td>\n",
       "      <td>...</td>\n",
       "    </tr>\n",
       "    <tr>\n",
       "      <th>2021-01-17 22:45:00</th>\n",
       "      <th>91</th>\n",
       "      <th>1</th>\n",
       "      <td>118</td>\n",
       "      <td>24</td>\n",
       "      <td>17</td>\n",
       "      <td>81</td>\n",
       "    </tr>\n",
       "    <tr>\n",
       "      <th>2021-01-17 23:00:00</th>\n",
       "      <th>92</th>\n",
       "      <th>1</th>\n",
       "      <td>116</td>\n",
       "      <td>23</td>\n",
       "      <td>20</td>\n",
       "      <td>81</td>\n",
       "    </tr>\n",
       "    <tr>\n",
       "      <th>2021-01-17 23:15:00</th>\n",
       "      <th>93</th>\n",
       "      <th>1</th>\n",
       "      <td>117</td>\n",
       "      <td>23</td>\n",
       "      <td>19</td>\n",
       "      <td>81</td>\n",
       "    </tr>\n",
       "    <tr>\n",
       "      <th>2021-01-17 23:30:00</th>\n",
       "      <th>94</th>\n",
       "      <th>1</th>\n",
       "      <td>116</td>\n",
       "      <td>24</td>\n",
       "      <td>16</td>\n",
       "      <td>84</td>\n",
       "    </tr>\n",
       "    <tr>\n",
       "      <th>2021-01-17 23:45:00</th>\n",
       "      <th>95</th>\n",
       "      <th>1</th>\n",
       "      <td>120</td>\n",
       "      <td>24</td>\n",
       "      <td>16</td>\n",
       "      <td>80</td>\n",
       "    </tr>\n",
       "  </tbody>\n",
       "</table>\n",
       "<p>10514 rows × 4 columns</p>\n",
       "</div>"
      ],
      "text/plain": [
       "                             Available  Charging  Passive  Other\n",
       "date                tod dow                                     \n",
       "2020-09-30 00:15:00 1   4          168        25       21     59\n",
       "2020-09-30 00:30:00 2   4          169        25       20     59\n",
       "2020-09-30 00:45:00 3   4          169        24       21     59\n",
       "2020-09-30 01:00:00 4   4          170        24       20     59\n",
       "2020-09-30 01:15:00 5   4          172        20       22     59\n",
       "...                                ...       ...      ...    ...\n",
       "2021-01-17 22:45:00 91  1          118        24       17     81\n",
       "2021-01-17 23:00:00 92  1          116        23       20     81\n",
       "2021-01-17 23:15:00 93  1          117        23       19     81\n",
       "2021-01-17 23:30:00 94  1          116        24       16     84\n",
       "2021-01-17 23:45:00 95  1          120        24       16     80\n",
       "\n",
       "[10514 rows x 4 columns]"
      ]
     },
     "execution_count": 126,
     "metadata": {},
     "output_type": "execute_result"
    }
   ],
   "source": [
    "train_truth = df_train.groupby([\"date\", \"tod\", \"dow\"])[TARGETS].sum()\n",
    "train_truth"
   ]
  },
  {
   "cell_type": "code",
   "execution_count": 120,
   "id": "de11d4c2",
   "metadata": {
    "ExecuteTime": {
     "end_time": "2022-11-26T20:15:20.013087Z",
     "start_time": "2022-11-26T20:15:19.989763Z"
    }
   },
   "outputs": [
    {
     "data": {
      "text/html": [
       "<div>\n",
       "<style scoped>\n",
       "    .dataframe tbody tr th:only-of-type {\n",
       "        vertical-align: middle;\n",
       "    }\n",
       "\n",
       "    .dataframe tbody tr th {\n",
       "        vertical-align: top;\n",
       "    }\n",
       "\n",
       "    .dataframe thead th {\n",
       "        text-align: right;\n",
       "    }\n",
       "</style>\n",
       "<table border=\"1\" class=\"dataframe\">\n",
       "  <thead>\n",
       "    <tr style=\"text-align: right;\">\n",
       "      <th></th>\n",
       "      <th></th>\n",
       "      <th></th>\n",
       "      <th>Available</th>\n",
       "      <th>Charging</th>\n",
       "      <th>Passive</th>\n",
       "      <th>Other</th>\n",
       "    </tr>\n",
       "    <tr>\n",
       "      <th>date</th>\n",
       "      <th>tod</th>\n",
       "      <th>dow</th>\n",
       "      <th></th>\n",
       "      <th></th>\n",
       "      <th></th>\n",
       "      <th></th>\n",
       "    </tr>\n",
       "  </thead>\n",
       "  <tbody>\n",
       "    <tr>\n",
       "      <th>2021-01-18 00:15:00</th>\n",
       "      <th>1</th>\n",
       "      <th>2</th>\n",
       "      <td>118</td>\n",
       "      <td>26</td>\n",
       "      <td>19</td>\n",
       "      <td>77</td>\n",
       "    </tr>\n",
       "    <tr>\n",
       "      <th>2021-01-18 00:30:00</th>\n",
       "      <th>2</th>\n",
       "      <th>2</th>\n",
       "      <td>118</td>\n",
       "      <td>29</td>\n",
       "      <td>16</td>\n",
       "      <td>77</td>\n",
       "    </tr>\n",
       "    <tr>\n",
       "      <th>2021-01-18 00:45:00</th>\n",
       "      <th>3</th>\n",
       "      <th>2</th>\n",
       "      <td>114</td>\n",
       "      <td>28</td>\n",
       "      <td>18</td>\n",
       "      <td>80</td>\n",
       "    </tr>\n",
       "    <tr>\n",
       "      <th>2021-01-18 01:00:00</th>\n",
       "      <th>4</th>\n",
       "      <th>2</th>\n",
       "      <td>113</td>\n",
       "      <td>28</td>\n",
       "      <td>19</td>\n",
       "      <td>80</td>\n",
       "    </tr>\n",
       "    <tr>\n",
       "      <th>2021-01-18 01:15:00</th>\n",
       "      <th>5</th>\n",
       "      <th>2</th>\n",
       "      <td>114</td>\n",
       "      <td>26</td>\n",
       "      <td>20</td>\n",
       "      <td>80</td>\n",
       "    </tr>\n",
       "    <tr>\n",
       "      <th>...</th>\n",
       "      <th>...</th>\n",
       "      <th>...</th>\n",
       "      <td>...</td>\n",
       "      <td>...</td>\n",
       "      <td>...</td>\n",
       "      <td>...</td>\n",
       "    </tr>\n",
       "    <tr>\n",
       "      <th>2021-02-18 22:45:00</th>\n",
       "      <th>91</th>\n",
       "      <th>5</th>\n",
       "      <td>141</td>\n",
       "      <td>22</td>\n",
       "      <td>14</td>\n",
       "      <td>96</td>\n",
       "    </tr>\n",
       "    <tr>\n",
       "      <th>2021-02-18 23:00:00</th>\n",
       "      <th>92</th>\n",
       "      <th>5</th>\n",
       "      <td>139</td>\n",
       "      <td>22</td>\n",
       "      <td>16</td>\n",
       "      <td>96</td>\n",
       "    </tr>\n",
       "    <tr>\n",
       "      <th>2021-02-18 23:15:00</th>\n",
       "      <th>93</th>\n",
       "      <th>5</th>\n",
       "      <td>136</td>\n",
       "      <td>24</td>\n",
       "      <td>14</td>\n",
       "      <td>99</td>\n",
       "    </tr>\n",
       "    <tr>\n",
       "      <th>2021-02-18 23:30:00</th>\n",
       "      <th>94</th>\n",
       "      <th>5</th>\n",
       "      <td>135</td>\n",
       "      <td>21</td>\n",
       "      <td>18</td>\n",
       "      <td>99</td>\n",
       "    </tr>\n",
       "    <tr>\n",
       "      <th>2021-02-18 23:45:00</th>\n",
       "      <th>95</th>\n",
       "      <th>5</th>\n",
       "      <td>130</td>\n",
       "      <td>25</td>\n",
       "      <td>16</td>\n",
       "      <td>102</td>\n",
       "    </tr>\n",
       "  </tbody>\n",
       "</table>\n",
       "<p>3071 rows × 4 columns</p>\n",
       "</div>"
      ],
      "text/plain": [
       "                             Available  Charging  Passive  Other\n",
       "date                tod dow                                     \n",
       "2021-01-18 00:15:00 1   2          118        26       19     77\n",
       "2021-01-18 00:30:00 2   2          118        29       16     77\n",
       "2021-01-18 00:45:00 3   2          114        28       18     80\n",
       "2021-01-18 01:00:00 4   2          113        28       19     80\n",
       "2021-01-18 01:15:00 5   2          114        26       20     80\n",
       "...                                ...       ...      ...    ...\n",
       "2021-02-18 22:45:00 91  5          141        22       14     96\n",
       "2021-02-18 23:00:00 92  5          139        22       16     96\n",
       "2021-02-18 23:15:00 93  5          136        24       14     99\n",
       "2021-02-18 23:30:00 94  5          135        21       18     99\n",
       "2021-02-18 23:45:00 95  5          130        25       16    102\n",
       "\n",
       "[3071 rows x 4 columns]"
      ]
     },
     "execution_count": 120,
     "metadata": {},
     "output_type": "execute_result"
    }
   ],
   "source": [
    "global_truth[TARGETS]"
   ]
  },
  {
   "cell_type": "code",
   "execution_count": null,
   "id": "1c6ab60a",
   "metadata": {},
   "outputs": [],
   "source": []
  },
  {
   "cell_type": "markdown",
   "id": "9965bf59",
   "metadata": {},
   "source": [
    "# Modeling"
   ]
  },
  {
   "cell_type": "code",
   "execution_count": 104,
   "id": "48fab0e9",
   "metadata": {
    "ExecuteTime": {
     "end_time": "2022-11-26T20:09:14.321904Z",
     "start_time": "2022-11-26T20:09:14.314427Z"
    }
   },
   "outputs": [],
   "source": [
    "from jours_feries_france import JoursFeries\n",
    "\n",
    "jf = list(JoursFeries.for_year(2020).values()) + list(JoursFeries.for_year(2021).values())"
   ]
  },
  {
   "cell_type": "code",
   "execution_count": 105,
   "id": "6b23ca66",
   "metadata": {
    "ExecuteTime": {
     "end_time": "2022-11-26T20:09:14.630841Z",
     "start_time": "2022-11-26T20:09:14.486196Z"
    }
   },
   "outputs": [],
   "source": [
    "from vacances_scolaires_france import SchoolHolidayDates\n",
    "\n",
    "holidays = SchoolHolidayDates()\n",
    "hd = [k for k, v in holidays.holidays_for_year(2020).items() if v[\"vacances_zone_c\"]] \\\n",
    "   + [k for k, v in holidays.holidays_for_year(2021).items() if v[\"vacances_zone_c\"]]"
   ]
  },
  {
   "cell_type": "code",
   "execution_count": 106,
   "id": "0336c24d",
   "metadata": {
    "ExecuteTime": {
     "end_time": "2022-11-26T20:09:15.031080Z",
     "start_time": "2022-11-26T20:09:14.633264Z"
    }
   },
   "outputs": [
    {
     "name": "stderr",
     "output_type": "stream",
     "text": [
      "/var/folders/b0/nl_f0s110lxgs62v2c6jwdx40000gn/T/ipykernel_83327/2766484269.py:1: SettingWithCopyWarning: \n",
      "A value is trying to be set on a copy of a slice from a DataFrame.\n",
      "Try using .loc[row_indexer,col_indexer] = value instead\n",
      "\n",
      "See the caveats in the documentation: https://pandas.pydata.org/pandas-docs/stable/user_guide/indexing.html#returning-a-view-versus-a-copy\n",
      "  df_train[\"is_jf\"] = df_train[\"date\"].dt.date.isin(jf)\n",
      "/var/folders/b0/nl_f0s110lxgs62v2c6jwdx40000gn/T/ipykernel_83327/2766484269.py:2: SettingWithCopyWarning: \n",
      "A value is trying to be set on a copy of a slice from a DataFrame.\n",
      "Try using .loc[row_indexer,col_indexer] = value instead\n",
      "\n",
      "See the caveats in the documentation: https://pandas.pydata.org/pandas-docs/stable/user_guide/indexing.html#returning-a-view-versus-a-copy\n",
      "  df_train[\"is_hd\"] = df_train[\"date\"].dt.date.isin(hd)\n"
     ]
    }
   ],
   "source": [
    "df_train[\"is_jf\"] = df_train[\"date\"].dt.date.isin(jf)\n",
    "df_train[\"is_hd\"] = df_train[\"date\"].dt.date.isin(hd)"
   ]
  },
  {
   "cell_type": "code",
   "execution_count": 107,
   "id": "16327287",
   "metadata": {
    "ExecuteTime": {
     "end_time": "2022-11-26T20:09:15.414842Z",
     "start_time": "2022-11-26T20:09:15.406526Z"
    }
   },
   "outputs": [
    {
     "data": {
      "text/plain": [
       "0.03521400519042665"
      ]
     },
     "execution_count": 107,
     "metadata": {},
     "output_type": "execute_result"
    }
   ],
   "source": [
    "df_train[\"is_jf\"].mean()"
   ]
  },
  {
   "cell_type": "code",
   "execution_count": 109,
   "id": "e1ff23e3",
   "metadata": {
    "ExecuteTime": {
     "end_time": "2022-11-26T20:09:21.263656Z",
     "start_time": "2022-11-26T20:09:21.255416Z"
    }
   },
   "outputs": [
    {
     "data": {
      "text/plain": [
       "0.28705990062379577"
      ]
     },
     "execution_count": 109,
     "metadata": {},
     "output_type": "execute_result"
    }
   ],
   "source": [
    "df_train[\"is_hd\"].mean()"
   ]
  },
  {
   "cell_type": "code",
   "execution_count": 110,
   "id": "b20f0a1e",
   "metadata": {
    "ExecuteTime": {
     "end_time": "2022-11-26T20:09:27.936752Z",
     "start_time": "2022-11-26T20:09:27.846281Z"
    }
   },
   "outputs": [
    {
     "data": {
      "text/html": [
       "<div>\n",
       "<style scoped>\n",
       "    .dataframe tbody tr th:only-of-type {\n",
       "        vertical-align: middle;\n",
       "    }\n",
       "\n",
       "    .dataframe tbody tr th {\n",
       "        vertical-align: top;\n",
       "    }\n",
       "\n",
       "    .dataframe thead th {\n",
       "        text-align: right;\n",
       "    }\n",
       "</style>\n",
       "<table border=\"1\" class=\"dataframe\">\n",
       "  <thead>\n",
       "    <tr style=\"text-align: right;\">\n",
       "      <th></th>\n",
       "      <th>Available</th>\n",
       "      <th>Charging</th>\n",
       "      <th>Passive</th>\n",
       "      <th>Other</th>\n",
       "    </tr>\n",
       "    <tr>\n",
       "      <th>is_hd</th>\n",
       "      <th></th>\n",
       "      <th></th>\n",
       "      <th></th>\n",
       "      <th></th>\n",
       "    </tr>\n",
       "  </thead>\n",
       "  <tbody>\n",
       "    <tr>\n",
       "      <th>False</th>\n",
       "      <td>1.80</td>\n",
       "      <td>0.30</td>\n",
       "      <td>0.29</td>\n",
       "      <td>0.61</td>\n",
       "    </tr>\n",
       "    <tr>\n",
       "      <th>True</th>\n",
       "      <td>1.76</td>\n",
       "      <td>0.27</td>\n",
       "      <td>0.42</td>\n",
       "      <td>0.55</td>\n",
       "    </tr>\n",
       "  </tbody>\n",
       "</table>\n",
       "</div>"
      ],
      "text/plain": [
       "       Available  Charging  Passive  Other\n",
       "is_hd                                     \n",
       "False       1.80      0.30     0.29   0.61\n",
       "True        1.76      0.27     0.42   0.55"
      ]
     },
     "execution_count": 110,
     "metadata": {},
     "output_type": "execute_result"
    }
   ],
   "source": [
    "df_train.groupby(\"is_hd\")[TARGETS].mean().round(2)"
   ]
  },
  {
   "cell_type": "code",
   "execution_count": 115,
   "id": "2d321b4e",
   "metadata": {
    "ExecuteTime": {
     "end_time": "2022-11-26T20:09:47.119166Z",
     "start_time": "2022-11-26T20:09:46.961450Z"
    }
   },
   "outputs": [
    {
     "data": {
      "text/plain": [
       "<AxesSubplot:xlabel='date'>"
      ]
     },
     "execution_count": 115,
     "metadata": {},
     "output_type": "execute_result"
    },
    {
     "data": {
      "image/png": "[encoded data removed]",
      "text/plain": [
       "<Figure size 432x288 with 1 Axes>"
      ]
     },
     "metadata": {
      "needs_background": "light"
     },
     "output_type": "display_data"
    }
   ],
   "source": [
    "df_train.query(\"Station == 'FR*V75*EBELI*1*1'\").set_index(\"date\")[\"Available\"].rolling(4*24).mean().plot()"
   ]
  },
  {
   "cell_type": "code",
   "execution_count": null,
   "id": "f294c07e",
   "metadata": {
    "ExecuteTime": {
     "end_time": "2022-11-26T12:38:17.593659Z",
     "start_time": "2022-11-26T12:38:17.593638Z"
    }
   },
   "outputs": [],
   "source": [
    "df_train[\"Available\"]"
   ]
  },
  {
   "cell_type": "code",
   "execution_count": null,
   "id": "91bd8c63",
   "metadata": {},
   "outputs": [],
   "source": []
  }
 ],
 "metadata": {
  "kernelspec": {
   "display_name": "Python 3 (ipykernel)",
   "language": "python",
   "name": "python3"
  },
  "language_info": {
   "codemirror_mode": {
    "name": "ipython",
    "version": 3
   },
   "file_extension": ".py",
   "mimetype": "text/x-python",
   "name": "python",
   "nbconvert_exporter": "python",
   "pygments_lexer": "ipython3",
   "version": "3.9.10"
  },
  "toc": {
   "base_numbering": 1,
   "nav_menu": {},
   "number_sections": true,
   "sideBar": true,
   "skip_h1_title": false,
   "title_cell": "Table of Contents",
   "title_sidebar": "Contents",
   "toc_cell": false,
   "toc_position": {},
   "toc_section_display": true,
   "toc_window_display": false
  }
 },
 "nbformat": 4,
 "nbformat_minor": 5
}
