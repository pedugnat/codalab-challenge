{
 "cells": [
  {
   "cell_type": "code",
   "execution_count": 1,
   "id": "758140db",
   "metadata": {
    "ExecuteTime": {
     "end_time": "2022-11-27T13:44:02.114132Z",
     "start_time": "2022-11-27T13:44:02.111251Z"
    }
   },
   "outputs": [],
   "source": [
    "# !pip install jours-feries-france -q\n",
    "# !pip install vacances-scolaires-france -q"
   ]
  },
  {
   "cell_type": "code",
   "execution_count": 2,
   "id": "da6643c5",
   "metadata": {
    "ExecuteTime": {
     "end_time": "2022-11-27T13:44:03.392639Z",
     "start_time": "2022-11-27T13:44:02.116036Z"
    }
   },
   "outputs": [],
   "source": [
    "import numpy as np\n",
    "import pandas as pd\n",
    "from tqdm.auto import tqdm\n",
    "\n",
    "import matplotlib.pyplot as plt\n",
    "import seaborn as sns\n",
    "import shutil\n",
    "import xgboost\n",
    "import category_encoders as ce\n",
    "import lightgbm\n",
    "\n",
    "import warnings\n",
    "warnings.filterwarnings(\"ignore\")\n",
    "\n",
    "TARGETS = [\"Available\", \"Charging\", \"Passive\", \"Other\"]"
   ]
  },
  {
   "cell_type": "code",
   "execution_count": 3,
   "id": "7b1ebb00",
   "metadata": {
    "ExecuteTime": {
     "end_time": "2022-11-27T13:44:03.400056Z",
     "start_time": "2022-11-27T13:44:03.397273Z"
    }
   },
   "outputs": [],
   "source": [
    "import os\n",
    "def mkdir(d):\n",
    "    if not os.path.exists(d):\n",
    "        os.makedirs(d)"
   ]
  },
  {
   "cell_type": "code",
   "execution_count": 4,
   "id": "609e1978",
   "metadata": {
    "ExecuteTime": {
     "end_time": "2022-11-27T13:44:03.408043Z",
     "start_time": "2022-11-27T13:44:03.404297Z"
    }
   },
   "outputs": [],
   "source": [
    "def plot_feat_importance(clf, X):\n",
    "    feature_imp = pd.DataFrame(\n",
    "        sorted(zip(clf.feature_importances_, X.columns)),\n",
    "        columns=['Value','Feature']\n",
    "    )\n",
    "\n",
    "    plt.figure(figsize=(12, 4))\n",
    "    sns.barplot(x=\"Value\", y=\"Feature\", data=feature_imp.sort_values(by=\"Value\", ascending=False))\n",
    "    plt.tight_layout()\n",
    "    plt.show()"
   ]
  },
  {
   "cell_type": "code",
   "execution_count": 5,
   "id": "603b4dad",
   "metadata": {
    "ExecuteTime": {
     "end_time": "2022-11-27T13:44:06.118322Z",
     "start_time": "2022-11-27T13:44:03.410219Z"
    },
    "code_folding": []
   },
   "outputs": [],
   "source": [
    "# data loading\n",
    "df_data = pd.read_csv(\"../public_data/train.csv\")\n",
    "df_test = pd.read_csv(\"../public_data/test.csv\")\n",
    "\n",
    "df_data['date'] = pd.to_datetime(df_data['date'])\n",
    "df_test['date'] = pd.to_datetime(df_test['date'])\n",
    "\n",
    "df_train = df_data[(df_data[\"date\"] > \"2020-05-30\")]\n",
    "\n",
    "df_train[\"day\"] = pd.to_datetime(df_train[\"date\"].dt.date)\n",
    "df_test[\"day\"] = pd.to_datetime(df_test[\"date\"].dt.date)"
   ]
  },
  {
   "cell_type": "code",
   "execution_count": 6,
   "id": "b178ccf3",
   "metadata": {
    "ExecuteTime": {
     "end_time": "2022-11-27T13:44:06.129271Z",
     "start_time": "2022-11-27T13:44:06.120433Z"
    },
    "code_folding": [
     0
    ]
   },
   "outputs": [],
   "source": [
    "def sae(y_true, y_pred):\n",
    "    \"\"\"Sum of Absolute errors\"\"\"\n",
    "    return(sum(abs(y_true - y_pred)))"
   ]
  },
  {
   "cell_type": "markdown",
   "id": "2a4e038e",
   "metadata": {},
   "source": [
    "# Modeling"
   ]
  },
  {
   "cell_type": "markdown",
   "id": "ec9a90a0",
   "metadata": {},
   "source": [
    "## Features"
   ]
  },
  {
   "cell_type": "code",
   "execution_count": 8,
   "id": "a3e79c67",
   "metadata": {
    "ExecuteTime": {
     "end_time": "2022-11-27T13:44:07.295543Z",
     "start_time": "2022-11-27T13:44:06.164940Z"
    }
   },
   "outputs": [],
   "source": [
    "from jours_feries_france import JoursFeries\n",
    "\n",
    "jf = list(JoursFeries.for_year(2020).values()) + list(JoursFeries.for_year(2021).values())\n",
    "\n",
    "from vacances_scolaires_france import SchoolHolidayDates\n",
    "\n",
    "holidays = SchoolHolidayDates()\n",
    "hd = [k for k, v in holidays.holidays_for_year(2020).items() if v[\"vacances_zone_c\"]] \\\n",
    "   + [k for k, v in holidays.holidays_for_year(2021).items() if v[\"vacances_zone_c\"]]\n",
    "\n",
    "df_train[\"is_jf\"] = df_train[\"date\"].dt.date.isin(jf)\n",
    "df_train[\"is_hd\"] = df_train[\"date\"].dt.date.isin(hd)\n",
    "\n",
    "df_test[\"is_jf\"] = df_test[\"date\"].dt.date.isin(jf)\n",
    "df_test[\"is_hd\"] = df_test[\"date\"].dt.date.isin(hd)\n"
   ]
  },
  {
   "cell_type": "code",
   "execution_count": 9,
   "id": "712ad664",
   "metadata": {
    "ExecuteTime": {
     "end_time": "2022-11-27T13:44:07.321018Z",
     "start_time": "2022-11-27T13:44:07.298869Z"
    }
   },
   "outputs": [],
   "source": [
    "# use monthly historical temperatures \n",
    "# (not very informative but helps capturing seasonality effect)\n",
    "\n",
    "df = pd.read_csv(\"../paris-historical-temperature.csv\", sep=\";\")\n",
    "df[\"day\"] = pd.to_datetime(df[\"observ_date\"], dayfirst=True) + pd.tseries.offsets.Day(1)\n",
    "df = df[df[\"day\"] > \"2020-01-01\"]\n",
    "df = df.set_index(\"day\")\n",
    "df = (\n",
    "    df\n",
    "    .reindex(pd.date_range(\"2020\", \"2022\"))\n",
    "    .ffill(limit=31)\n",
    "    .reset_index()\n",
    "    .rename(columns={\"index\": \"day\"})\n",
    ")"
   ]
  },
  {
   "cell_type": "code",
   "execution_count": 10,
   "id": "910d4fbf",
   "metadata": {
    "ExecuteTime": {
     "end_time": "2022-11-27T13:44:08.153763Z",
     "start_time": "2022-11-27T13:44:07.323790Z"
    }
   },
   "outputs": [],
   "source": [
    "# add temperatures and one hot encode area\n",
    "df_train = pd.merge(\n",
    "    df_train,\n",
    "    df[[\"day\", \"avg_day\", \"avg_night\"]],\n",
    "    on=[\"day\"]\n",
    ").drop(\"Station\", axis=1)\n",
    "\n",
    "df_train = pd.concat((\n",
    "    df_train.drop(\"area\", axis=1), \n",
    "    pd.get_dummies(df_train[\"area\"])\n",
    "), axis=1)\n",
    "\n",
    "df_test = pd.merge(\n",
    "    df_test,\n",
    "    df[[\"day\", \"avg_day\", \"avg_night\"]],\n",
    "    on=[\"day\"]\n",
    ").drop(\"Station\", axis=1)\n",
    "\n",
    "df_test = pd.concat((\n",
    "    df_test.drop(\"area\", axis=1), \n",
    "    pd.get_dummies(df_test[\"area\"])\n",
    "), axis=1)"
   ]
  },
  {
   "cell_type": "code",
   "execution_count": 11,
   "id": "d2e541f8",
   "metadata": {
    "ExecuteTime": {
     "end_time": "2022-11-27T13:44:08.173264Z",
     "start_time": "2022-11-27T13:44:08.156502Z"
    }
   },
   "outputs": [
    {
     "data": {
      "text/html": [
       "<div>\n",
       "<style scoped>\n",
       "    .dataframe tbody tr th:only-of-type {\n",
       "        vertical-align: middle;\n",
       "    }\n",
       "\n",
       "    .dataframe tbody tr th {\n",
       "        vertical-align: top;\n",
       "    }\n",
       "\n",
       "    .dataframe thead th {\n",
       "        text-align: right;\n",
       "    }\n",
       "</style>\n",
       "<table border=\"1\" class=\"dataframe\">\n",
       "  <thead>\n",
       "    <tr style=\"text-align: right;\">\n",
       "      <th></th>\n",
       "      <th>date</th>\n",
       "      <th>Available</th>\n",
       "      <th>Charging</th>\n",
       "      <th>Passive</th>\n",
       "      <th>Other</th>\n",
       "      <th>tod</th>\n",
       "      <th>dow</th>\n",
       "      <th>trend</th>\n",
       "      <th>Latitude</th>\n",
       "      <th>Longitude</th>\n",
       "      <th>Postcode</th>\n",
       "      <th>day</th>\n",
       "      <th>is_jf</th>\n",
       "      <th>is_hd</th>\n",
       "      <th>avg_day</th>\n",
       "      <th>avg_night</th>\n",
       "      <th>east</th>\n",
       "      <th>north</th>\n",
       "      <th>south</th>\n",
       "      <th>west</th>\n",
       "    </tr>\n",
       "  </thead>\n",
       "  <tbody>\n",
       "    <tr>\n",
       "      <th>0</th>\n",
       "      <td>2020-07-03</td>\n",
       "      <td>3</td>\n",
       "      <td>0</td>\n",
       "      <td>0</td>\n",
       "      <td>0</td>\n",
       "      <td>0</td>\n",
       "      <td>6</td>\n",
       "      <td>27</td>\n",
       "      <td>48.855667</td>\n",
       "      <td>2.354089</td>\n",
       "      <td>75004</td>\n",
       "      <td>2020-07-03</td>\n",
       "      <td>False</td>\n",
       "      <td>False</td>\n",
       "      <td>26.5</td>\n",
       "      <td>15.7</td>\n",
       "      <td>0</td>\n",
       "      <td>0</td>\n",
       "      <td>1</td>\n",
       "      <td>0</td>\n",
       "    </tr>\n",
       "    <tr>\n",
       "      <th>1</th>\n",
       "      <td>2020-07-03</td>\n",
       "      <td>2</td>\n",
       "      <td>1</td>\n",
       "      <td>0</td>\n",
       "      <td>0</td>\n",
       "      <td>0</td>\n",
       "      <td>6</td>\n",
       "      <td>27</td>\n",
       "      <td>48.864240</td>\n",
       "      <td>2.397724</td>\n",
       "      <td>75020</td>\n",
       "      <td>2020-07-03</td>\n",
       "      <td>False</td>\n",
       "      <td>False</td>\n",
       "      <td>26.5</td>\n",
       "      <td>15.7</td>\n",
       "      <td>1</td>\n",
       "      <td>0</td>\n",
       "      <td>0</td>\n",
       "      <td>0</td>\n",
       "    </tr>\n",
       "  </tbody>\n",
       "</table>\n",
       "</div>"
      ],
      "text/plain": [
       "        date  Available  Charging  Passive  Other  tod  dow  trend   Latitude  \\\n",
       "0 2020-07-03          3         0        0      0    0    6     27  48.855667   \n",
       "1 2020-07-03          2         1        0      0    0    6     27  48.864240   \n",
       "\n",
       "   Longitude  Postcode        day  is_jf  is_hd  avg_day  avg_night  east  \\\n",
       "0   2.354089     75004 2020-07-03  False  False     26.5       15.7     0   \n",
       "1   2.397724     75020 2020-07-03  False  False     26.5       15.7     1   \n",
       "\n",
       "   north  south  west  \n",
       "0      0      1     0  \n",
       "1      0      0     0  "
      ]
     },
     "execution_count": 11,
     "metadata": {},
     "output_type": "execute_result"
    }
   ],
   "source": [
    "df_train.head(2)"
   ]
  },
  {
   "cell_type": "code",
   "execution_count": 12,
   "id": "3142d3d9",
   "metadata": {
    "ExecuteTime": {
     "end_time": "2022-11-27T13:44:08.189575Z",
     "start_time": "2022-11-27T13:44:08.176548Z"
    }
   },
   "outputs": [
    {
     "data": {
      "text/html": [
       "<div>\n",
       "<style scoped>\n",
       "    .dataframe tbody tr th:only-of-type {\n",
       "        vertical-align: middle;\n",
       "    }\n",
       "\n",
       "    .dataframe tbody tr th {\n",
       "        vertical-align: top;\n",
       "    }\n",
       "\n",
       "    .dataframe thead th {\n",
       "        text-align: right;\n",
       "    }\n",
       "</style>\n",
       "<table border=\"1\" class=\"dataframe\">\n",
       "  <thead>\n",
       "    <tr style=\"text-align: right;\">\n",
       "      <th></th>\n",
       "      <th>date</th>\n",
       "      <th>tod</th>\n",
       "      <th>dow</th>\n",
       "      <th>trend</th>\n",
       "      <th>Latitude</th>\n",
       "      <th>Longitude</th>\n",
       "      <th>Postcode</th>\n",
       "      <th>day</th>\n",
       "      <th>is_jf</th>\n",
       "      <th>is_hd</th>\n",
       "      <th>avg_day</th>\n",
       "      <th>avg_night</th>\n",
       "      <th>east</th>\n",
       "      <th>north</th>\n",
       "      <th>south</th>\n",
       "      <th>west</th>\n",
       "    </tr>\n",
       "  </thead>\n",
       "  <tbody>\n",
       "    <tr>\n",
       "      <th>0</th>\n",
       "      <td>2021-02-19</td>\n",
       "      <td>0</td>\n",
       "      <td>6</td>\n",
       "      <td>22203</td>\n",
       "      <td>48.85567</td>\n",
       "      <td>2.354089</td>\n",
       "      <td>75004</td>\n",
       "      <td>2021-02-19</td>\n",
       "      <td>False</td>\n",
       "      <td>True</td>\n",
       "      <td>10.2</td>\n",
       "      <td>4.2</td>\n",
       "      <td>0</td>\n",
       "      <td>0</td>\n",
       "      <td>1</td>\n",
       "      <td>0</td>\n",
       "    </tr>\n",
       "    <tr>\n",
       "      <th>1</th>\n",
       "      <td>2021-02-19</td>\n",
       "      <td>0</td>\n",
       "      <td>6</td>\n",
       "      <td>22203</td>\n",
       "      <td>48.86424</td>\n",
       "      <td>2.397724</td>\n",
       "      <td>75020</td>\n",
       "      <td>2021-02-19</td>\n",
       "      <td>False</td>\n",
       "      <td>True</td>\n",
       "      <td>10.2</td>\n",
       "      <td>4.2</td>\n",
       "      <td>1</td>\n",
       "      <td>0</td>\n",
       "      <td>0</td>\n",
       "      <td>0</td>\n",
       "    </tr>\n",
       "  </tbody>\n",
       "</table>\n",
       "</div>"
      ],
      "text/plain": [
       "        date  tod  dow  trend  Latitude  Longitude  Postcode        day  \\\n",
       "0 2021-02-19    0    6  22203  48.85567   2.354089     75004 2021-02-19   \n",
       "1 2021-02-19    0    6  22203  48.86424   2.397724     75020 2021-02-19   \n",
       "\n",
       "   is_jf  is_hd  avg_day  avg_night  east  north  south  west  \n",
       "0  False   True     10.2        4.2     0      0      1     0  \n",
       "1  False   True     10.2        4.2     1      0      0     0  "
      ]
     },
     "execution_count": 12,
     "metadata": {},
     "output_type": "execute_result"
    }
   ],
   "source": [
    "df_test.head(2)"
   ]
  },
  {
   "cell_type": "code",
   "execution_count": 13,
   "id": "5d7aaca6",
   "metadata": {
    "ExecuteTime": {
     "end_time": "2022-11-27T13:44:28.098705Z",
     "start_time": "2022-11-27T13:44:08.192744Z"
    },
    "scrolled": false
   },
   "outputs": [
    {
     "data": {
      "application/json": {
       "ascii": false,
       "bar_format": null,
       "colour": null,
       "elapsed": 0.01937103271484375,
       "initial": 0,
       "n": 0,
       "ncols": null,
       "nrows": 32,
       "postfix": null,
       "prefix": "",
       "rate": null,
       "total": 4,
       "unit": "it",
       "unit_divisor": 1000,
       "unit_scale": false
      },
      "application/vnd.jupyter.widget-view+json": {
       "model_id": "fc9bdc9dc823453cabf03ddfb74d867a",
       "version_major": 2,
       "version_minor": 0
      },
      "text/plain": [
       "  0%|          | 0/4 [00:00<?, ?it/s]"
      ]
     },
     "metadata": {},
     "output_type": "display_data"
    },
    {
     "name": "stdout",
     "output_type": "stream",
     "text": [
      "[LightGBM] [Warning] Met categorical feature which contains sparse values. Consider renumbering to consecutive integers started from zero\n",
      "[LightGBM] [Warning] Auto-choosing row-wise multi-threading, the overhead of testing was 0.015266 seconds.\n",
      "You can set `force_row_wise=true` to remove the overhead.\n",
      "And if memory is not enough, you can set `force_col_wise=true`.\n",
      "[50]\ttraining's l1: 0.726596\ttraining's l2: 0.800949\n",
      "[100]\ttraining's l1: 0.696127\ttraining's l2: 0.756391\n",
      "[LightGBM] [Warning] Met categorical feature which contains sparse values. Consider renumbering to consecutive integers started from zero\n",
      "[LightGBM] [Warning] Auto-choosing row-wise multi-threading, the overhead of testing was 0.016859 seconds.\n",
      "You can set `force_row_wise=true` to remove the overhead.\n",
      "And if memory is not enough, you can set `force_col_wise=true`.\n",
      "[50]\ttraining's l1: 0.328624\ttraining's l2: 0.22229\n",
      "[100]\ttraining's l1: 0.318463\ttraining's l2: 0.215537\n",
      "[LightGBM] [Warning] Met categorical feature which contains sparse values. Consider renumbering to consecutive integers started from zero\n",
      "[LightGBM] [Warning] Auto-choosing row-wise multi-threading, the overhead of testing was 0.023975 seconds.\n",
      "You can set `force_row_wise=true` to remove the overhead.\n",
      "And if memory is not enough, you can set `force_col_wise=true`.\n",
      "[50]\ttraining's l1: 0.333257\ttraining's l2: 0.239856\n",
      "[100]\ttraining's l1: 0.321946\ttraining's l2: 0.230582\n",
      "[LightGBM] [Warning] Met categorical feature which contains sparse values. Consider renumbering to consecutive integers started from zero\n",
      "[LightGBM] [Warning] Auto-choosing row-wise multi-threading, the overhead of testing was 0.013777 seconds.\n",
      "You can set `force_row_wise=true` to remove the overhead.\n",
      "And if memory is not enough, you can set `force_col_wise=true`.\n",
      "[50]\ttraining's l1: 0.555963\ttraining's l2: 0.675155\n",
      "[100]\ttraining's l1: 0.503808\ttraining's l2: 0.61185\n"
     ]
    }
   ],
   "source": [
    "# training loop\n",
    "\n",
    "y_preds = list()\n",
    "models = list()\n",
    "\n",
    "train_feats = df_train.drop(TARGETS + [\"date\", \"day\", \"trend\"], axis=1)\n",
    "test_feats = df_test.drop([\"date\", \"day\", \"trend\"], axis=1)\n",
    "\n",
    "for target in tqdm(TARGETS):\n",
    "\n",
    "    train_target = df_train[target]\n",
    "\n",
    "    lgbm = lightgbm.LGBMRegressor(verbose=0)\n",
    "    lgbm.fit(\n",
    "        train_feats,\n",
    "        train_target,\n",
    "        eval_set=[\n",
    "            (train_feats, train_target), \n",
    "        ],\n",
    "        eval_metric=\"l1\",\n",
    "        verbose=50,\n",
    "        categorical_feature=[\"Postcode\"]\n",
    "    )\n",
    "\n",
    "    y_preds.append(lgbm.predict(test_feats))\n",
    "    models.append(lgbm)\n",
    "    \n",
    "    # plot_feat_importance(lgbm, train_feats)"
   ]
  },
  {
   "cell_type": "code",
   "execution_count": 14,
   "id": "248ec444",
   "metadata": {
    "ExecuteTime": {
     "end_time": "2022-11-27T13:44:28.107229Z",
     "start_time": "2022-11-27T13:44:28.101355Z"
    }
   },
   "outputs": [
    {
     "data": {
      "text/plain": [
       "(165984, 4)"
      ]
     },
     "execution_count": 14,
     "metadata": {},
     "output_type": "execute_result"
    }
   ],
   "source": [
    "preds = np.vstack(y_preds).T\n",
    "preds.shape"
   ]
  },
  {
   "cell_type": "code",
   "execution_count": 15,
   "id": "70f3d3af",
   "metadata": {
    "ExecuteTime": {
     "end_time": "2022-11-27T13:44:28.296268Z",
     "start_time": "2022-11-27T13:44:28.110172Z"
    }
   },
   "outputs": [],
   "source": [
    "test_station = pd.read_csv(\"../public_data/test.csv\")\n",
    "\n",
    "station_prediction = pd.concat(\n",
    "    (test_station, pd.DataFrame(preds, columns=TARGETS)),\n",
    "    axis=1\n",
    ")[[\"date\", \"area\", \"Station\"] + TARGETS]\n"
   ]
  },
  {
   "cell_type": "code",
   "execution_count": 16,
   "id": "de08455e",
   "metadata": {
    "ExecuteTime": {
     "end_time": "2022-11-27T13:44:28.924718Z",
     "start_time": "2022-11-27T13:44:28.298684Z"
    }
   },
   "outputs": [],
   "source": [
    "# normalize in a simple but efficient way\n",
    "for target in TARGETS:\n",
    "    station_prediction[target] = 3 * station_prediction[target] / station_prediction.sum(axis=1)"
   ]
  },
  {
   "cell_type": "code",
   "execution_count": 17,
   "id": "07d01585",
   "metadata": {
    "ExecuteTime": {
     "end_time": "2022-11-27T13:44:29.424657Z",
     "start_time": "2022-11-27T13:44:28.926961Z"
    }
   },
   "outputs": [],
   "source": [
    "mkdir(\"sample_result_submission\")\n",
    "\n",
    "station_prediction[[\"date\", \"area\", \"Station\"] + TARGETS].round().to_csv(\n",
    "    \"../output/sample_result_submission/station.csv\", index=False\n",
    ")"
   ]
  },
  {
   "cell_type": "code",
   "execution_count": 18,
   "id": "84276b2b",
   "metadata": {
    "ExecuteTime": {
     "end_time": "2022-11-27T13:44:29.442494Z",
     "start_time": "2022-11-27T13:44:29.427546Z"
    }
   },
   "outputs": [
    {
     "data": {
      "text/html": [
       "<div>\n",
       "<style scoped>\n",
       "    .dataframe tbody tr th:only-of-type {\n",
       "        vertical-align: middle;\n",
       "    }\n",
       "\n",
       "    .dataframe tbody tr th {\n",
       "        vertical-align: top;\n",
       "    }\n",
       "\n",
       "    .dataframe thead th {\n",
       "        text-align: right;\n",
       "    }\n",
       "</style>\n",
       "<table border=\"1\" class=\"dataframe\">\n",
       "  <thead>\n",
       "    <tr style=\"text-align: right;\">\n",
       "      <th></th>\n",
       "      <th>date</th>\n",
       "      <th>area</th>\n",
       "      <th>Station</th>\n",
       "      <th>Available</th>\n",
       "      <th>Charging</th>\n",
       "      <th>Passive</th>\n",
       "      <th>Other</th>\n",
       "    </tr>\n",
       "  </thead>\n",
       "  <tbody>\n",
       "    <tr>\n",
       "      <th>0</th>\n",
       "      <td>2021-02-19 00:00:00</td>\n",
       "      <td>south</td>\n",
       "      <td>FR*V75*EBELI*1*1</td>\n",
       "      <td>3.0</td>\n",
       "      <td>0.0</td>\n",
       "      <td>0.0</td>\n",
       "      <td>0.0</td>\n",
       "    </tr>\n",
       "    <tr>\n",
       "      <th>1</th>\n",
       "      <td>2021-02-19 00:00:00</td>\n",
       "      <td>east</td>\n",
       "      <td>FR*V75*EBELI*10*1</td>\n",
       "      <td>1.0</td>\n",
       "      <td>0.0</td>\n",
       "      <td>0.0</td>\n",
       "      <td>2.0</td>\n",
       "    </tr>\n",
       "    <tr>\n",
       "      <th>2</th>\n",
       "      <td>2021-02-19 00:00:00</td>\n",
       "      <td>west</td>\n",
       "      <td>FR*V75*EBELI*11*1</td>\n",
       "      <td>1.0</td>\n",
       "      <td>0.0</td>\n",
       "      <td>0.0</td>\n",
       "      <td>2.0</td>\n",
       "    </tr>\n",
       "    <tr>\n",
       "      <th>3</th>\n",
       "      <td>2021-02-19 00:00:00</td>\n",
       "      <td>south</td>\n",
       "      <td>FR*V75*EBELI*12*1</td>\n",
       "      <td>3.0</td>\n",
       "      <td>0.0</td>\n",
       "      <td>0.0</td>\n",
       "      <td>-0.0</td>\n",
       "    </tr>\n",
       "    <tr>\n",
       "      <th>4</th>\n",
       "      <td>2021-02-19 00:00:00</td>\n",
       "      <td>north</td>\n",
       "      <td>FR*V75*EBELI*13*1</td>\n",
       "      <td>2.0</td>\n",
       "      <td>0.0</td>\n",
       "      <td>0.0</td>\n",
       "      <td>0.0</td>\n",
       "    </tr>\n",
       "  </tbody>\n",
       "</table>\n",
       "</div>"
      ],
      "text/plain": [
       "                  date   area            Station  Available  Charging  \\\n",
       "0  2021-02-19 00:00:00  south   FR*V75*EBELI*1*1        3.0       0.0   \n",
       "1  2021-02-19 00:00:00   east  FR*V75*EBELI*10*1        1.0       0.0   \n",
       "2  2021-02-19 00:00:00   west  FR*V75*EBELI*11*1        1.0       0.0   \n",
       "3  2021-02-19 00:00:00  south  FR*V75*EBELI*12*1        3.0       0.0   \n",
       "4  2021-02-19 00:00:00  north  FR*V75*EBELI*13*1        2.0       0.0   \n",
       "\n",
       "   Passive  Other  \n",
       "0      0.0    0.0  \n",
       "1      0.0    2.0  \n",
       "2      0.0    2.0  \n",
       "3      0.0   -0.0  \n",
       "4      0.0    0.0  "
      ]
     },
     "execution_count": 18,
     "metadata": {},
     "output_type": "execute_result"
    }
   ],
   "source": [
    "station_prediction.round().head()"
   ]
  },
  {
   "cell_type": "markdown",
   "id": "30a6c96d",
   "metadata": {},
   "source": [
    "# Area Level"
   ]
  },
  {
   "cell_type": "code",
   "execution_count": 19,
   "id": "ed1536f1",
   "metadata": {
    "ExecuteTime": {
     "end_time": "2022-11-27T13:44:29.509577Z",
     "start_time": "2022-11-27T13:44:29.446042Z"
    }
   },
   "outputs": [],
   "source": [
    "# aggregate station prediction at the area level\n",
    "area_prediction = station_prediction.groupby([\"date\", \"area\"])[TARGETS].sum().reset_index()\n",
    "area_prediction.to_csv(\n",
    "    \"../output/sample_result_submission/area.csv\", index=False\n",
    ")"
   ]
  },
  {
   "cell_type": "code",
   "execution_count": 20,
   "id": "0ce1d064",
   "metadata": {
    "ExecuteTime": {
     "end_time": "2022-11-27T13:44:29.521083Z",
     "start_time": "2022-11-27T13:44:29.512447Z"
    }
   },
   "outputs": [
    {
     "data": {
      "text/html": [
       "<div>\n",
       "<style scoped>\n",
       "    .dataframe tbody tr th:only-of-type {\n",
       "        vertical-align: middle;\n",
       "    }\n",
       "\n",
       "    .dataframe tbody tr th {\n",
       "        vertical-align: top;\n",
       "    }\n",
       "\n",
       "    .dataframe thead th {\n",
       "        text-align: right;\n",
       "    }\n",
       "</style>\n",
       "<table border=\"1\" class=\"dataframe\">\n",
       "  <thead>\n",
       "    <tr style=\"text-align: right;\">\n",
       "      <th></th>\n",
       "      <th>date</th>\n",
       "      <th>area</th>\n",
       "      <th>Available</th>\n",
       "      <th>Charging</th>\n",
       "      <th>Passive</th>\n",
       "      <th>Other</th>\n",
       "    </tr>\n",
       "  </thead>\n",
       "  <tbody>\n",
       "    <tr>\n",
       "      <th>0</th>\n",
       "      <td>2021-02-19 00:00:00</td>\n",
       "      <td>east</td>\n",
       "      <td>38.153711</td>\n",
       "      <td>6.565524</td>\n",
       "      <td>2.815029</td>\n",
       "      <td>27.713173</td>\n",
       "    </tr>\n",
       "    <tr>\n",
       "      <th>1</th>\n",
       "      <td>2021-02-19 00:00:00</td>\n",
       "      <td>north</td>\n",
       "      <td>36.224971</td>\n",
       "      <td>4.311193</td>\n",
       "      <td>4.852075</td>\n",
       "      <td>20.123767</td>\n",
       "    </tr>\n",
       "    <tr>\n",
       "      <th>2</th>\n",
       "      <td>2021-02-19 00:00:00</td>\n",
       "      <td>south</td>\n",
       "      <td>41.298428</td>\n",
       "      <td>5.165521</td>\n",
       "      <td>3.436689</td>\n",
       "      <td>12.784591</td>\n",
       "    </tr>\n",
       "    <tr>\n",
       "      <th>3</th>\n",
       "      <td>2021-02-19 00:00:00</td>\n",
       "      <td>west</td>\n",
       "      <td>27.642690</td>\n",
       "      <td>8.372816</td>\n",
       "      <td>6.592692</td>\n",
       "      <td>26.949573</td>\n",
       "    </tr>\n",
       "    <tr>\n",
       "      <th>4</th>\n",
       "      <td>2021-02-19 00:15:00</td>\n",
       "      <td>east</td>\n",
       "      <td>38.153711</td>\n",
       "      <td>6.565524</td>\n",
       "      <td>2.815029</td>\n",
       "      <td>27.713173</td>\n",
       "    </tr>\n",
       "  </tbody>\n",
       "</table>\n",
       "</div>"
      ],
      "text/plain": [
       "                  date   area  Available  Charging   Passive      Other\n",
       "0  2021-02-19 00:00:00   east  38.153711  6.565524  2.815029  27.713173\n",
       "1  2021-02-19 00:00:00  north  36.224971  4.311193  4.852075  20.123767\n",
       "2  2021-02-19 00:00:00  south  41.298428  5.165521  3.436689  12.784591\n",
       "3  2021-02-19 00:00:00   west  27.642690  8.372816  6.592692  26.949573\n",
       "4  2021-02-19 00:15:00   east  38.153711  6.565524  2.815029  27.713173"
      ]
     },
     "execution_count": 20,
     "metadata": {},
     "output_type": "execute_result"
    }
   ],
   "source": [
    "area_prediction.head()"
   ]
  },
  {
   "cell_type": "markdown",
   "id": "43470f0d",
   "metadata": {
    "ExecuteTime": {
     "end_time": "2022-11-26T12:41:26.520390Z",
     "start_time": "2022-11-26T12:41:26.509037Z"
    }
   },
   "source": [
    "# Global Level"
   ]
  },
  {
   "cell_type": "code",
   "execution_count": 21,
   "id": "8b8dba92",
   "metadata": {
    "ExecuteTime": {
     "end_time": "2022-11-27T13:44:29.550518Z",
     "start_time": "2022-11-27T13:44:29.523767Z"
    }
   },
   "outputs": [],
   "source": [
    "# aggregate station prediction at the area level\n",
    "global_prediction = station_prediction.groupby([\"date\"])[TARGETS].sum().reset_index()\n",
    "global_prediction.to_csv(\n",
    "    \"../output/sample_result_submission/global.csv\", index=False\n",
    ")"
   ]
  },
  {
   "cell_type": "code",
   "execution_count": 22,
   "id": "6751efe5",
   "metadata": {
    "ExecuteTime": {
     "end_time": "2022-11-27T13:44:29.562326Z",
     "start_time": "2022-11-27T13:44:29.553236Z"
    }
   },
   "outputs": [
    {
     "data": {
      "text/html": [
       "<div>\n",
       "<style scoped>\n",
       "    .dataframe tbody tr th:only-of-type {\n",
       "        vertical-align: middle;\n",
       "    }\n",
       "\n",
       "    .dataframe tbody tr th {\n",
       "        vertical-align: top;\n",
       "    }\n",
       "\n",
       "    .dataframe thead th {\n",
       "        text-align: right;\n",
       "    }\n",
       "</style>\n",
       "<table border=\"1\" class=\"dataframe\">\n",
       "  <thead>\n",
       "    <tr style=\"text-align: right;\">\n",
       "      <th></th>\n",
       "      <th>date</th>\n",
       "      <th>Available</th>\n",
       "      <th>Charging</th>\n",
       "      <th>Passive</th>\n",
       "      <th>Other</th>\n",
       "    </tr>\n",
       "  </thead>\n",
       "  <tbody>\n",
       "    <tr>\n",
       "      <th>0</th>\n",
       "      <td>2021-02-19 00:00:00</td>\n",
       "      <td>143.319800</td>\n",
       "      <td>24.415055</td>\n",
       "      <td>17.696486</td>\n",
       "      <td>87.571104</td>\n",
       "    </tr>\n",
       "    <tr>\n",
       "      <th>1</th>\n",
       "      <td>2021-02-19 00:15:00</td>\n",
       "      <td>143.319800</td>\n",
       "      <td>24.415055</td>\n",
       "      <td>17.696486</td>\n",
       "      <td>87.571104</td>\n",
       "    </tr>\n",
       "    <tr>\n",
       "      <th>2</th>\n",
       "      <td>2021-02-19 00:30:00</td>\n",
       "      <td>143.386248</td>\n",
       "      <td>24.294006</td>\n",
       "      <td>17.699792</td>\n",
       "      <td>87.596382</td>\n",
       "    </tr>\n",
       "    <tr>\n",
       "      <th>3</th>\n",
       "      <td>2021-02-19 00:45:00</td>\n",
       "      <td>143.612550</td>\n",
       "      <td>23.896161</td>\n",
       "      <td>17.709829</td>\n",
       "      <td>87.671880</td>\n",
       "    </tr>\n",
       "    <tr>\n",
       "      <th>4</th>\n",
       "      <td>2021-02-19 01:00:00</td>\n",
       "      <td>143.675892</td>\n",
       "      <td>23.520718</td>\n",
       "      <td>18.008982</td>\n",
       "      <td>87.672604</td>\n",
       "    </tr>\n",
       "  </tbody>\n",
       "</table>\n",
       "</div>"
      ],
      "text/plain": [
       "                  date   Available   Charging    Passive      Other\n",
       "0  2021-02-19 00:00:00  143.319800  24.415055  17.696486  87.571104\n",
       "1  2021-02-19 00:15:00  143.319800  24.415055  17.696486  87.571104\n",
       "2  2021-02-19 00:30:00  143.386248  24.294006  17.699792  87.596382\n",
       "3  2021-02-19 00:45:00  143.612550  23.896161  17.709829  87.671880\n",
       "4  2021-02-19 01:00:00  143.675892  23.520718  18.008982  87.672604"
      ]
     },
     "execution_count": 22,
     "metadata": {},
     "output_type": "execute_result"
    }
   ],
   "source": [
    "global_prediction.head()"
   ]
  },
  {
   "cell_type": "code",
   "execution_count": 23,
   "id": "7cdf039e",
   "metadata": {
    "ExecuteTime": {
     "end_time": "2022-11-27T13:44:29.744944Z",
     "start_time": "2022-11-27T13:44:29.564733Z"
    }
   },
   "outputs": [
    {
     "data": {
      "text/plain": [
       "'/Users/paulemiledugnat/Desktop/codalab/notebooks/sample_result_submission.zip'"
      ]
     },
     "execution_count": 23,
     "metadata": {},
     "output_type": "execute_result"
    }
   ],
   "source": [
    "shutil.make_archive(\"../output/sample_result_submission\", \"zip\", \"sample_result_submission\")"
   ]
  },
  {
   "cell_type": "code",
   "execution_count": null,
   "id": "2cfa961c",
   "metadata": {},
   "outputs": [],
   "source": []
  }
 ],
 "metadata": {
  "kernelspec": {
   "display_name": "Python 3 (ipykernel)",
   "language": "python",
   "name": "python3"
  },
  "language_info": {
   "codemirror_mode": {
    "name": "ipython",
    "version": 3
   },
   "file_extension": ".py",
   "mimetype": "text/x-python",
   "name": "python",
   "nbconvert_exporter": "python",
   "pygments_lexer": "ipython3",
   "version": "3.9.10"
  },
  "toc": {
   "base_numbering": 1,
   "nav_menu": {},
   "number_sections": true,
   "sideBar": true,
   "skip_h1_title": false,
   "title_cell": "Table of Contents",
   "title_sidebar": "Contents",
   "toc_cell": false,
   "toc_position": {},
   "toc_section_display": true,
   "toc_window_display": false
  }
 },
 "nbformat": 4,
 "nbformat_minor": 5
}
